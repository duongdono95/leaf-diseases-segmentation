{
 "cells": [
  {
   "cell_type": "code",
   "execution_count": null,
   "metadata": {},
   "outputs": [],
   "source": [
    "import tkinter as tk\n",
    "from tkinter import filedialog\n",
    "from PIL import Image, ImageTk  # Pillow library for image handling\n",
    "\n",
    "# Create the main application window\n",
    "root = tk.Tk()\n",
    "root.geometry(\"1000x500\")\n",
    "root.title(\"Image Loader\")\n",
    "\n",
    "# Create a frame for the buttons\n",
    "button_frame = tk.Frame(root)\n",
    "button_frame.pack(side=tk.TOP, pady=10)\n",
    "\n",
    "# Create \"Load Folder\" and \"Load Image\" buttons\n",
    "load_folder_button = tk.Button(button_frame, text=\"Load Folder\", command=lambda: print(\"Load Folder clicked\"))\n",
    "load_folder_button.pack(side=tk.LEFT, padx=10)\n",
    "\n",
    "load_image_button = tk.Button(button_frame, text=\"Load Image\", command=lambda: print(\"Load Image clicked\"))\n",
    "load_image_button.pack(side=tk.LEFT, padx=10)\n",
    "\n",
    "# Create a frame for the image placeholders\n",
    "image_frame = tk.Frame(root)\n",
    "image_frame.pack(side=tk.TOP, pady=20)\n",
    "\n",
    "# Create image placeholders\n",
    "image_labels = []\n",
    "for _ in range(3):\n",
    "    label = tk.Label(image_frame, width=256, height=256, bg='black')\n",
    "    label.pack(side=tk.LEFT, padx=10)\n",
    "    image_labels\n"
   ]
  }
 ],
 "metadata": {
  "kernelspec": {
   "display_name": "env",
   "language": "python",
   "name": "python3"
  },
  "language_info": {
   "codemirror_mode": {
    "name": "ipython",
    "version": 3
   },
   "file_extension": ".py",
   "mimetype": "text/x-python",
   "name": "python",
   "nbconvert_exporter": "python",
   "pygments_lexer": "ipython3",
   "version": "3.11.9"
  }
 },
 "nbformat": 4,
 "nbformat_minor": 2
}
